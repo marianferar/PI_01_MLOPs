{
 "cells": [
  {
   "cell_type": "code",
   "execution_count": 1,
   "metadata": {},
   "outputs": [],
   "source": [
    "import pandas as pd"
   ]
  },
  {
   "cell_type": "code",
   "execution_count": 73,
   "metadata": {},
   "outputs": [
    {
     "data": {
      "text/html": [
       "<div>\n",
       "<style scoped>\n",
       "    .dataframe tbody tr th:only-of-type {\n",
       "        vertical-align: middle;\n",
       "    }\n",
       "\n",
       "    .dataframe tbody tr th {\n",
       "        vertical-align: top;\n",
       "    }\n",
       "\n",
       "    .dataframe thead th {\n",
       "        text-align: right;\n",
       "    }\n",
       "</style>\n",
       "<table border=\"1\" class=\"dataframe\">\n",
       "  <thead>\n",
       "    <tr style=\"text-align: right;\">\n",
       "      <th></th>\n",
       "      <th>id</th>\n",
       "      <th>type</th>\n",
       "      <th>title</th>\n",
       "      <th>director</th>\n",
       "      <th>cast</th>\n",
       "      <th>country</th>\n",
       "      <th>date_added</th>\n",
       "      <th>release_year</th>\n",
       "      <th>clasification</th>\n",
       "      <th>listed_in</th>\n",
       "      <th>description</th>\n",
       "      <th>platform</th>\n",
       "      <th>duration_int</th>\n",
       "      <th>duration_type</th>\n",
       "      <th>score</th>\n",
       "    </tr>\n",
       "  </thead>\n",
       "  <tbody>\n",
       "    <tr>\n",
       "      <th>0</th>\n",
       "      <td>as1</td>\n",
       "      <td>movie</td>\n",
       "      <td>the grand seduction</td>\n",
       "      <td>don mckellar</td>\n",
       "      <td>brendan gleeson, taylor kitsch, gordon pinsent</td>\n",
       "      <td>canada</td>\n",
       "      <td>2021-03-30</td>\n",
       "      <td>2014</td>\n",
       "      <td>g</td>\n",
       "      <td>comedy, drama</td>\n",
       "      <td>a small fishing village must procure a local d...</td>\n",
       "      <td>amazon</td>\n",
       "      <td>0.0</td>\n",
       "      <td>min</td>\n",
       "      <td>3.5</td>\n",
       "    </tr>\n",
       "    <tr>\n",
       "      <th>1</th>\n",
       "      <td>as2</td>\n",
       "      <td>movie</td>\n",
       "      <td>take care good night</td>\n",
       "      <td>girish joshi</td>\n",
       "      <td>mahesh manjrekar, abhay mahajan, sachin khedekar</td>\n",
       "      <td>india</td>\n",
       "      <td>2021-03-30</td>\n",
       "      <td>2018</td>\n",
       "      <td>13+</td>\n",
       "      <td>drama, international</td>\n",
       "      <td>a metro family decides to fight a cyber crimin...</td>\n",
       "      <td>amazon</td>\n",
       "      <td>94.0</td>\n",
       "      <td>min</td>\n",
       "      <td>3.5</td>\n",
       "    </tr>\n",
       "    <tr>\n",
       "      <th>2</th>\n",
       "      <td>as3</td>\n",
       "      <td>movie</td>\n",
       "      <td>secrets of deception</td>\n",
       "      <td>josh webber</td>\n",
       "      <td>tom sizemore, lorenzo lamas, robert lasardo, r...</td>\n",
       "      <td>united states</td>\n",
       "      <td>2021-03-30</td>\n",
       "      <td>2017</td>\n",
       "      <td>g</td>\n",
       "      <td>action, drama, suspense</td>\n",
       "      <td>after a man discovers his wife is cheating on ...</td>\n",
       "      <td>amazon</td>\n",
       "      <td>108.0</td>\n",
       "      <td>min</td>\n",
       "      <td>3.5</td>\n",
       "    </tr>\n",
       "    <tr>\n",
       "      <th>3</th>\n",
       "      <td>as4</td>\n",
       "      <td>movie</td>\n",
       "      <td>pink: staying true</td>\n",
       "      <td>sonia anderson</td>\n",
       "      <td>interviews with: pink, adele, beyoncé, britney...</td>\n",
       "      <td>united states</td>\n",
       "      <td>2021-03-30</td>\n",
       "      <td>2014</td>\n",
       "      <td>g</td>\n",
       "      <td>documentary</td>\n",
       "      <td>pink breaks the mold once again, bringing her ...</td>\n",
       "      <td>amazon</td>\n",
       "      <td>97.0</td>\n",
       "      <td>min</td>\n",
       "      <td>3.5</td>\n",
       "    </tr>\n",
       "    <tr>\n",
       "      <th>4</th>\n",
       "      <td>as5</td>\n",
       "      <td>movie</td>\n",
       "      <td>monster maker</td>\n",
       "      <td>giles foster</td>\n",
       "      <td>harry dean stanton, kieran o'brien, george cos...</td>\n",
       "      <td>united kingdom</td>\n",
       "      <td>2021-03-30</td>\n",
       "      <td>1989</td>\n",
       "      <td>g</td>\n",
       "      <td>drama, fantasy</td>\n",
       "      <td>teenage matt banting wants to work with a famo...</td>\n",
       "      <td>amazon</td>\n",
       "      <td>104.0</td>\n",
       "      <td>min</td>\n",
       "      <td>3.5</td>\n",
       "    </tr>\n",
       "  </tbody>\n",
       "</table>\n",
       "</div>"
      ],
      "text/plain": [
       "    id   type                 title        director  \\\n",
       "0  as1  movie   the grand seduction    don mckellar   \n",
       "1  as2  movie  take care good night    girish joshi   \n",
       "2  as3  movie  secrets of deception     josh webber   \n",
       "3  as4  movie    pink: staying true  sonia anderson   \n",
       "4  as5  movie         monster maker    giles foster   \n",
       "\n",
       "                                                cast         country  \\\n",
       "0     brendan gleeson, taylor kitsch, gordon pinsent          canada   \n",
       "1   mahesh manjrekar, abhay mahajan, sachin khedekar           india   \n",
       "2  tom sizemore, lorenzo lamas, robert lasardo, r...   united states   \n",
       "3  interviews with: pink, adele, beyoncé, britney...   united states   \n",
       "4  harry dean stanton, kieran o'brien, george cos...  united kingdom   \n",
       "\n",
       "   date_added  release_year clasification                listed_in  \\\n",
       "0  2021-03-30          2014             g            comedy, drama   \n",
       "1  2021-03-30          2018           13+     drama, international   \n",
       "2  2021-03-30          2017             g  action, drama, suspense   \n",
       "3  2021-03-30          2014             g              documentary   \n",
       "4  2021-03-30          1989             g           drama, fantasy   \n",
       "\n",
       "                                         description platform  duration_int  \\\n",
       "0  a small fishing village must procure a local d...   amazon           0.0   \n",
       "1  a metro family decides to fight a cyber crimin...   amazon          94.0   \n",
       "2  after a man discovers his wife is cheating on ...   amazon         108.0   \n",
       "3  pink breaks the mold once again, bringing her ...   amazon          97.0   \n",
       "4  teenage matt banting wants to work with a famo...   amazon         104.0   \n",
       "\n",
       "  duration_type  score  \n",
       "0           min    3.5  \n",
       "1           min    3.5  \n",
       "2           min    3.5  \n",
       "3           min    3.5  \n",
       "4           min    3.5  "
      ]
     },
     "execution_count": 73,
     "metadata": {},
     "output_type": "execute_result"
    }
   ],
   "source": [
    "streaming = pd.read_csv(r'C:\\Users\\Marianela Soledad\\Desktop\\PI_ML_OPS\\streaming.csv' , delimiter =',', encoding= 'utf-8')\n",
    "\n",
    "streaming.head()"
   ]
  },
  {
   "cell_type": "code",
   "execution_count": 90,
   "metadata": {},
   "outputs": [],
   "source": [
    "import datetime"
   ]
  },
  {
   "cell_type": "code",
   "execution_count": 95,
   "metadata": {},
   "outputs": [],
   "source": [
    "#Película con mayor duración con filtros opcionales de AÑO, PLATAFORMA Y TIPO DE DURACIÓN.\n",
    "#(la función debe llamarse get_max_duration(year, platform, duration_type))\n",
    "\n",
    "def get_max_duration(year=None, platform=None, duration_type=None):\n",
    "    platforms = ['amazon', 'disney plus', 'hulu', 'netflix']\n",
    "    duration_types = ['min', 'season']\n",
    "    today = datetime.date.today()\n",
    "\n",
    "    if platform not in platforms: \n",
    "        return 'platform incorrect'\n",
    "    if duration_type not in duration_types:\n",
    "        return 'duration_type incorrect'\n",
    "    if year > today.year:\n",
    "        return 'year incorrect'\n",
    "    # filtrar el DataFrame de películas en función de los parámetros de entrada\n",
    "    filtered = streaming.copy()\n",
    "    if year is not None:\n",
    "        filtered = filtered[filtered['release_year'] == year]\n",
    "    if platform is not None:\n",
    "        filtered = filtered[filtered['platform'] == platform]\n",
    "    if duration_type is not None:\n",
    "        filtered = filtered[filtered['duration_type'].str.contains(duration_type)]\n",
    "       \n",
    "    # obtener la película con la duración más larga\n",
    "    max_duration = filtered['duration_int'].max()\n",
    "    longest_movies = filtered[filtered['duration_int'] == max_duration]['title'].tolist()\n",
    "    \n",
    "    # devolver la lista de películas con la duración más larga\n",
    "    return longest_movies"
   ]
  },
  {
   "cell_type": "code",
   "execution_count": 100,
   "metadata": {},
   "outputs": [
    {
     "data": {
      "text/plain": [
       "['the gospel of matthew']"
      ]
     },
     "execution_count": 100,
     "metadata": {},
     "output_type": "execute_result"
    }
   ],
   "source": [
    "get_max_duration(year=2014, platform='netflix', duration_type='min')"
   ]
  },
  {
   "cell_type": "code",
   "execution_count": 101,
   "metadata": {},
   "outputs": [],
   "source": [
    "#Cantidad de películas por plataforma con un puntaje mayor a XX en determinado año \n",
    "#(la función debe llamarse get_score_count(platform, scored, year))\n",
    "\n",
    "def get_score_count(platform, score, year):\n",
    "    platforms = ['amazon', 'disney plus', 'hulu', 'netflix']\n",
    "    today = datetime.date.today()\n",
    "\n",
    "    if platform not in platforms: \n",
    "        return 'platform incorrect'\n",
    "    if year > today.year:\n",
    "        return 'year incorrect'\n",
    "    if score > 5 or score < 1:\n",
    "        return 'score incorrect'\n",
    "    # Filtrar el dataframe por plataforma y año\n",
    "    filtered = streaming[(streaming['platform'] == platform) & (streaming['release_year'] == year)]\n",
    "    \n",
    "    # Contar la cantidad de películas con puntaje mayor al valor especificado\n",
    "    count = filtered[filtered['score'] > score]['title'].count()\n",
    "    \n",
    "    # Devolver el resultado\n",
    "    return count"
   ]
  },
  {
   "cell_type": "code",
   "execution_count": 108,
   "metadata": {},
   "outputs": [
    {
     "data": {
      "text/plain": [
       "953"
      ]
     },
     "execution_count": 108,
     "metadata": {},
     "output_type": "execute_result"
    }
   ],
   "source": [
    "get_score_count('netflix', 3,2020)"
   ]
  },
  {
   "cell_type": "code",
   "execution_count": 109,
   "metadata": {},
   "outputs": [],
   "source": [
    "#Cantidad de películas por plataforma con filtro de PLATAFORMA. \n",
    "#(La función debe llamarse get_count_platform(platform))\n",
    "\n",
    "def get_count_platform(platform):\n",
    "    platforms = ['amazon', 'disney plus', 'hulu', 'netflix']\n",
    "    if platform not in platforms: \n",
    "        return 'platform incorrect'\n",
    "    filtered = streaming[(streaming['platform'] == platform)]\n",
    "    count = filtered['title'].count()\n",
    "    return count"
   ]
  },
  {
   "cell_type": "code",
   "execution_count": 113,
   "metadata": {},
   "outputs": [
    {
     "data": {
      "text/plain": [
       "8807"
      ]
     },
     "execution_count": 113,
     "metadata": {},
     "output_type": "execute_result"
    }
   ],
   "source": [
    "get_count_platform('netflix')"
   ]
  },
  {
   "cell_type": "code",
   "execution_count": 183,
   "metadata": {},
   "outputs": [
    {
     "data": {
      "text/plain": [
       "9668"
      ]
     },
     "execution_count": 183,
     "metadata": {},
     "output_type": "execute_result"
    }
   ],
   "source": [
    "get_count_platform('amazon')"
   ]
  },
  {
   "cell_type": "code",
   "execution_count": 184,
   "metadata": {},
   "outputs": [
    {
     "data": {
      "text/plain": [
       "3073"
      ]
     },
     "execution_count": 184,
     "metadata": {},
     "output_type": "execute_result"
    }
   ],
   "source": [
    "get_count_platform('hulu')"
   ]
  },
  {
   "cell_type": "code",
   "execution_count": 185,
   "metadata": {},
   "outputs": [
    {
     "data": {
      "text/plain": [
       "1450"
      ]
     },
     "execution_count": 185,
     "metadata": {},
     "output_type": "execute_result"
    }
   ],
   "source": [
    "get_count_platform('disney plus')"
   ]
  },
  {
   "cell_type": "code",
   "execution_count": 176,
   "metadata": {},
   "outputs": [],
   "source": [
    "# Actor que más se repite según plataforma y año. \n",
    "# (La función debe llamarse get_actor(platform, year))\n",
    "\n",
    "def get_actor(platform, year):\n",
    "    filtered = streaming[(streaming['platform'] == platform) & (streaming['release_year'] == year) & (streaming['cast'] != 'NaN')]\n",
    "    \n",
    "    actor_count = filtered['cast'].value_counts()\n",
    "    \n",
    "    if actor_count.empty:\n",
    "        return 'Not Found'\n",
    "    \n",
    "    return actor_count.idxmax()"
   ]
  },
  {
   "cell_type": "code",
   "execution_count": 182,
   "metadata": {},
   "outputs": [
    {
     "data": {
      "text/plain": [
       "'anne-marie newland'"
      ]
     },
     "execution_count": 182,
     "metadata": {},
     "output_type": "execute_result"
    }
   ],
   "source": [
    "get_actor('amazon', 2014)"
   ]
  }
 ],
 "metadata": {
  "kernelspec": {
   "display_name": "Python 3",
   "language": "python",
   "name": "python3"
  },
  "language_info": {
   "codemirror_mode": {
    "name": "ipython",
    "version": 3
   },
   "file_extension": ".py",
   "mimetype": "text/x-python",
   "name": "python",
   "nbconvert_exporter": "python",
   "pygments_lexer": "ipython3",
   "version": "3.10.6"
  },
  "orig_nbformat": 4
 },
 "nbformat": 4,
 "nbformat_minor": 2
}
